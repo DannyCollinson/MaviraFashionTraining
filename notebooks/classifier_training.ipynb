{
 "cells": [
  {
   "cell_type": "markdown",
   "metadata": {},
   "source": [
    "## Console for running classifier training"
   ]
  },
  {
   "cell_type": "code",
   "execution_count": 1,
   "metadata": {},
   "outputs": [],
   "source": [
    "# Create datasets and dataloaders\n",
    "\n",
    "from maviratrain.data.classification_dataset import make_training_dataloaders\n",
    "\n",
    "# The path to the dataset used for training\n",
    "train_path = \"../data/classifier/classifier354-r2-s2-n2/train/\"\n",
    "# train_path = \"/mnt/disks/localssd/data/classifier362-r2-s3-n4/train/\"\n",
    "\n",
    "# The path to the dataset used for validation\n",
    "val_path = \"../data/classifier/classifier354-r2-s2-n2/val/\"\n",
    "# val_path = \"/mnt/disks/localssd/data/classifier362-r2-s3-n4/val/\"\n",
    "\n",
    "# Specify any non-default dataloader parameters\n",
    "# Defaults found in maviratrain.utils.constants\n",
    "dataloader_params = {\"batch_size\": 64, \"num_workers\": 3}\n",
    "\n",
    "# Specify any additional transforms to apply to the data\n",
    "additional_transforms = None\n",
    "\n",
    "# Create PyTorch datasets/dataloaders\n",
    "train_dataset, train_dataloader, val_dataset, val_dataloader = (\n",
    "    make_training_dataloaders(\n",
    "        train_data_path=train_path,\n",
    "        additional_transforms=additional_transforms,\n",
    "        train_dataloader_params=dataloader_params,\n",
    "        val_data_path=val_path,\n",
    "        val_dataloader_params=dataloader_params,\n",
    "    )\n",
    ")\n",
    "\n",
    "input_dims = list(train_dataset[0][0].shape)"
   ]
  },
  {
   "cell_type": "code",
   "execution_count": 2,
   "metadata": {},
   "outputs": [],
   "source": [
    "# # Create ViT model\n",
    "\n",
    "# from maviratrain.models.classifier_model import create_vit\n",
    "\n",
    "# vit_kwargs = {\n",
    "#     \"image_size\": train_dataset[0][0].shape[-1],\n",
    "#     \"patch_size\": 16,\n",
    "#     \"num_layers\": 6,\n",
    "#     \"num_heads\": 6,\n",
    "#     \"hidden_dim\": 360,\n",
    "#     \"mlp_dim\": 1024,\n",
    "#     \"num_classes\": len(train_dataset.classes),\n",
    "# }\n",
    "# model = create_vit(vit_kwargs=vit_kwargs)"
   ]
  },
  {
   "cell_type": "code",
   "execution_count": 3,
   "metadata": {},
   "outputs": [],
   "source": [
    "# Create EfficientNet model\n",
    "\n",
    "# from torchvision.models import EfficientNet_B3_Weights\n",
    "\n",
    "from maviratrain.models.classifier_model import create_efficientnet_b3\n",
    "\n",
    "model = create_efficientnet_b3(\n",
    "    weights=None,\n",
    "    # weights=EfficientNet_B3_Weights.IMAGENET1K_V1,\n",
    "    num_classes=len(train_dataset.classes),\n",
    ")"
   ]
  },
  {
   "cell_type": "code",
   "execution_count": 4,
   "metadata": {},
   "outputs": [],
   "source": [
    "# # Create SimpleModel model\n",
    "\n",
    "# from maviratrain.models.classifier_model import SimpleModel\n",
    "\n",
    "# model = SimpleModel(\n",
    "#     input_dims=input_dims, num_classes=len(train_dataset.classes)\n",
    "# )"
   ]
  },
  {
   "cell_type": "code",
   "execution_count": 5,
   "metadata": {},
   "outputs": [],
   "source": [
    "# # Create TestModel model\n",
    "\n",
    "# from maviratrain.models.classifier_model import TestModel\n",
    "\n",
    "# model = TestModel(\n",
    "#     input_dims=input_dims, num_classes=len(train_dataset.classes)\n",
    "# )"
   ]
  },
  {
   "cell_type": "code",
   "execution_count": 6,
   "metadata": {},
   "outputs": [],
   "source": [
    "# Create optimizers and learning rate schedulers\n",
    "\n",
    "from torch.optim import AdamW, lr_scheduler\n",
    "\n",
    "# Number of epochs for warmup and total training\n",
    "warmup_epochs = 5\n",
    "total_epochs = 50\n",
    "\n",
    "# Set up optimizer\n",
    "optimizer = AdamW(\n",
    "    params=model.parameters(),\n",
    "    lr=0.001,\n",
    "    betas=(0.9, 0.999),\n",
    "    eps=1e-10,\n",
    "    weight_decay=0.01,\n",
    "    fused=True,\n",
    ")\n",
    "\n",
    "# Set up learning rate schedulers\n",
    "scheduler1 = lr_scheduler.LinearLR(\n",
    "    optimizer,\n",
    "    start_factor=0.1,\n",
    "    end_factor=1,\n",
    "    total_iters=warmup_epochs,\n",
    "    last_epoch=-1,\n",
    ")\n",
    "scheduler2 = lr_scheduler.CosineAnnealingLR(\n",
    "    optimizer, T_max=total_epochs, last_epoch=warmup_epochs\n",
    ")\n",
    "\n",
    "optimization = [optimizer, scheduler1, scheduler2]"
   ]
  },
  {
   "cell_type": "code",
   "execution_count": 7,
   "metadata": {},
   "outputs": [],
   "source": [
    "# Create loss function\n",
    "\n",
    "from torch.nn import CrossEntropyLoss\n",
    "\n",
    "loss_fn = CrossEntropyLoss(\n",
    "    weight=None,\n",
    "    reduction=\"sum\",\n",
    "    label_smoothing=0,\n",
    ")"
   ]
  },
  {
   "cell_type": "code",
   "execution_count": 8,
   "metadata": {},
   "outputs": [],
   "source": [
    "# Set up Trainer\n",
    "\n",
    "from maviratrain.train.train_classifier import Trainer\n",
    "\n",
    "# Set up trainer\n",
    "trainer = Trainer(\n",
    "    loaders=[train_dataloader, val_dataloader],  # type: ignore\n",
    "    optimization=optimization,  # type: ignore\n",
    "    loss_fn=loss_fn,\n",
    ")"
   ]
  },
  {
   "cell_type": "code",
   "execution_count": null,
   "metadata": {},
   "outputs": [
    {
     "name": "stderr",
     "output_type": "stream",
     "text": [
      "17:36:49 - Val Epoch: 0        Loss: 5.8796        Accuracy: 0.32        Top-5 Accuracy: 1.56\n"
     ]
    }
   ],
   "source": [
    "# Train model\n",
    "\n",
    "model, n_steps_trained, n_epochs_trained = trainer.train(\n",
    "    model=model, n_epochs=total_epochs\n",
    ")"
   ]
  }
 ],
 "metadata": {
  "kernelspec": {
   "display_name": "maviratrain",
   "language": "python",
   "name": "maviratrain"
  },
  "language_info": {
   "codemirror_mode": {
    "name": "ipython",
    "version": 3
   },
   "file_extension": ".py",
   "mimetype": "text/x-python",
   "name": "python",
   "nbconvert_exporter": "python",
   "pygments_lexer": "ipython3",
   "version": "3.13.1"
  }
 },
 "nbformat": 4,
 "nbformat_minor": 2
}
