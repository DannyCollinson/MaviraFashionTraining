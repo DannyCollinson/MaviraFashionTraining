{
 "cells": [
  {
   "cell_type": "code",
   "execution_count": 1,
   "metadata": {},
   "outputs": [],
   "source": [
    "from torch.nn import CrossEntropyLoss\n",
    "from torch.optim import AdamW, lr_scheduler\n",
    "from torch.utils.data import DataLoader\n",
    "\n",
    "import maviratrain.data.classification_dataset\n",
    "import maviratrain.models.classifier_model\n",
    "import maviratrain.train.train_classifier"
   ]
  },
  {
   "cell_type": "code",
   "execution_count": 2,
   "metadata": {},
   "outputs": [],
   "source": [
    "train_dataset = maviratrain.data.classification_dataset.ClassifierDataset(\n",
    "    \"data/classification_test-resized_224x224-2024-08-28-split-2024-08-28/\"\n",
    "    \"train\"\n",
    ")\n",
    "train_dataloader = DataLoader(\n",
    "    train_dataset, batch_size=64, shuffle=True, drop_last=True\n",
    ")\n",
    "\n",
    "val_dataset = maviratrain.data.classification_dataset.ClassifierDataset(\n",
    "    \"data/classification_test-resized_224x224-2024-08-28-split-2024-08-28/\"\n",
    "    \"val\"\n",
    ")\n",
    "val_dataloader = DataLoader(\n",
    "    val_dataset, batch_size=64, shuffle=False, drop_last=False\n",
    ")"
   ]
  },
  {
   "cell_type": "code",
   "execution_count": 3,
   "metadata": {},
   "outputs": [],
   "source": [
    "vit_kwargs = {\n",
    "    \"image_size\": 224,\n",
    "    \"patch_size\": 32,\n",
    "    \"num_layers\": 4,\n",
    "    \"num_heads\": 4,\n",
    "    \"hidden_dim\": 128,\n",
    "    \"mlp_dim\": 512,\n",
    "    \"num_classes\": 4,\n",
    "}\n",
    "model = maviratrain.models.classifier_model.create_vit(vit_kwargs=vit_kwargs)"
   ]
  },
  {
   "cell_type": "code",
   "execution_count": 4,
   "metadata": {},
   "outputs": [],
   "source": [
    "optimizer = AdamW(params=model.parameters(), lr=0.03, weight_decay=0.1)\n",
    "# scheduler1 = lr_scheduler.LinearLR(\n",
    "# optimizer, start_factor=0.1, end_factor=1, total_iters=30, last_epoch=-1\n",
    "# )\n",
    "# scheduler2 = lr_scheduler.CosineAnnealingLR(\n",
    "# optimizer, T_max=330, last_epoch=30\n",
    "# )\n",
    "optimization = [optimizer]  # , scheduler1, scheduler2]"
   ]
  },
  {
   "cell_type": "code",
   "execution_count": 5,
   "metadata": {},
   "outputs": [],
   "source": [
    "trainer = maviratrain.train.train_classifier.Trainer(\n",
    "    loaders=[train_dataloader, val_dataloader],\n",
    "    optimization=optimization,\n",
    "    loss_fn=CrossEntropyLoss(reduction=\"sum\"),\n",
    ")"
   ]
  },
  {
   "cell_type": "markdown",
   "metadata": {},
   "source": [
    "--epochs 300 --batch-size 512 --opt adamw --lr 0.003 --wd 0.3\\\n",
    "    --lr-scheduler cosineannealinglr --lr-warmup-method linear --lr-warmup-epochs 30\\\n",
    "    --lr-warmup-decay 0.033"
   ]
  },
  {
   "cell_type": "code",
   "execution_count": 9,
   "metadata": {},
   "outputs": [
    {
     "name": "stdout",
     "output_type": "stream",
     "text": [
      "  Val Epoch: -1\t   Loss: 1.3008\t  Accuracy: 0.299\n",
      "Train Epoch: 0\t   Loss: 1.4083\t  Accuracy: 0.269\t    Time: 2.58\n",
      "Running final evaluation...\n",
      "Loss: 1.2796\t Accuracy: 0.278\tTotal Time: 4.665851354598999\n"
     ]
    }
   ],
   "source": [
    "model, n_steps_trained, n_epochs_trained = trainer.train(\n",
    "    model=model, n_epochs=1\n",
    ")"
   ]
  },
  {
   "cell_type": "code",
   "execution_count": 14,
   "metadata": {},
   "outputs": [],
   "source": [
    "total = 0\n",
    "i = 1\n",
    "while i < 1000000000:\n",
    "    total += i**2\n",
    "    total = total ** (1 / 2)\n",
    "    i += 1"
   ]
  },
  {
   "cell_type": "code",
   "execution_count": 15,
   "metadata": {},
   "outputs": [
    {
     "data": {
      "text/plain": [
       "999999999.5"
      ]
     },
     "execution_count": 15,
     "metadata": {},
     "output_type": "execute_result"
    }
   ],
   "source": [
    "total"
   ]
  },
  {
   "cell_type": "code",
   "execution_count": null,
   "metadata": {},
   "outputs": [],
   "source": []
  }
 ],
 "metadata": {
  "kernelspec": {
   "display_name": "maviratrain",
   "language": "python",
   "name": "maviratrain"
  },
  "language_info": {
   "codemirror_mode": {
    "name": "ipython",
    "version": 3
   },
   "file_extension": ".py",
   "mimetype": "text/x-python",
   "name": "python",
   "nbconvert_exporter": "python",
   "pygments_lexer": "ipython3",
   "version": "3.12.5"
  }
 },
 "nbformat": 4,
 "nbformat_minor": 2
}
